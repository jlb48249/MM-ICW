{
 "cells": [
  {
   "cell_type": "code",
   "execution_count": 12,
   "metadata": {},
   "outputs": [],
   "source": [
    "# Import dependencies\n",
    "%matplotlib inline\n",
    "import numpy as np\n",
    "np.random.seed(42) # fixing the seed\n",
    "import matplotlib\n",
    "import matplotlib.pyplot as plt\n",
    "import matplotlib.colors as colors\n",
    "import scipy\n",
    "import pandas as pd\n",
    "import matplotlib.colors as mcolors\n",
    "from matplotlib import gridspec\n",
    "from matplotlib.ticker import AutoMinorLocator\n",
    "import matplotlib.ticker as ticker\n",
    "from scipy.signal import find_peaks, peak_widths\n",
    "import pathlib\n",
    "import seaborn as sns\n",
    "import math"
   ]
  },
  {
   "cell_type": "code",
   "execution_count": 13,
   "metadata": {},
   "outputs": [],
   "source": [
    "LODt = 1.5\n",
    "\n",
    "def processTrace(filename, frameRate=1): \n",
    "    # If [sec] then time is already indicized into the array, use FrameRate=1\n",
    "    df = pd.read_csv(filename)\n",
    "    df['Time'] = df['[sec]']/frameRate\n",
    "    df['Time'] = df['Time']\n",
    "    df['Index'] = np.asfarray(range(0, len(df)))\n",
    "    \n",
    "    # Normalize to initial fluorescence\n",
    "    # Define f0 as average of first ten frames\n",
    "    f0 = np.mean(df['Mean'][:10])\n",
    "    df['F0'] = df['Mean']/f0\n",
    "    df['F0'] = np.subtract(df['F0'], df['F0'][0])\n",
    "    # df['F0'] = np.subtract(df['F0'], min(df['F0']))\n",
    "    return df\n",
    "\n",
    "def combineArrays(dfs):\n",
    "    x_array = []\n",
    "    y_array = []\n",
    "    for i in range(0, len(dfs)):\n",
    "        df = dfs[i]\n",
    "        x = np.asfarray(df['Time'])\n",
    "        y = np.asfarray(df['F0'])\n",
    "        x = x.flatten()\n",
    "        y = y.flatten()\n",
    "        if len(x_array) == 0:\n",
    "            x_array = np.append(x_array, x)\n",
    "            y_array = np.append(y_array, y)\n",
    "        else:\n",
    "            x_array = np.vstack((x_array, x))\n",
    "            y_array = np.vstack((y_array, y)) \n",
    "    x_array = x_array.transpose()\n",
    "    y_array = y_array.transpose()\n",
    "    return x_array, y_array\n",
    "\n",
    "def average_array(array): \n",
    "    means = np.mean(array, axis=1)\n",
    "    stds = np.std(array, axis=1)\n",
    "    return means, stds\n",
    "\n",
    "def id_cell(df, idx): \n",
    "    id_array = []\n",
    "    for i in range(0, len(df)): \n",
    "        id_array = np.append(id_array, idx)\n",
    "    df['id'] = id_array\n",
    "    return df\n",
    "\n",
    "def f0array(filenames):\n",
    "    df = []\n",
    "    array_f0 = []\n",
    "    list = []\n",
    "    for i in range(0, len(filenames)): \n",
    "        df = processTrace(filenames[i])\n",
    "        x = df['F0']\n",
    "        list.append(x)\n",
    "    array_f0 = np.asarray(list)\n",
    "    return array_f0\n",
    "\n",
    "\n",
    "def peakMaker2(x, y):\n",
    "    # SciPy Peaks\n",
    "    slices = x\n",
    "    pky = y\n",
    "    peaks, properties = find_peaks(pky, height=1000, threshold = 100, prominence = 70, distance=3, width=1)\n",
    "    peak_count = len(peaks)\n",
    "    pkFrames = slices[peaks]\n",
    "    # print(pkFrames)\n",
    "    \n",
    "    # Others\n",
    "    add_pks = []\n",
    "    for i in range(2, len(slices)):\n",
    "        if y[i] > y[i-1]*LODt:\n",
    "            if y[i] > 0.3: \n",
    "                add_pks = np.append(add_pks, slices[i])\n",
    "    print(add_pks)\n",
    "    z = np.concatenate((pkFrames, add_pks))\n",
    "    _, i = np.unique(z, return_index=True)\n",
    "    pk = z[np.sort(i)]\n",
    "    return pk, peaks\n",
    "    \n",
    "# Altogether\n",
    "def totalProcess(filename): \n",
    "    df = []\n",
    "    df = processTrace(filename, 1)\n",
    "\n",
    "    # Define peaks\n",
    "    pk1, pkFrames = peakMaker2(df['Index'], df['Mean'])\n",
    "    pk = []\n",
    "    pkFrames = np.asfarray(pkFrames)\n",
    "    # print(pkFrames)\n",
    "    \n",
    "    for i in range(0, (len(pkFrames))):\n",
    "        index = pkFrames[i]\n",
    "        if df['F0'][index] > .05: \n",
    "            pk = np.append(pk, pk1[i])\n",
    "        # else:\n",
    "            # continue\n",
    "\n",
    "    # Calculate diffs\n",
    "    return pk1\n",
    "\n",
    "def stimAdj(x_array, offset=0.25, stimTime=27.3): \n",
    "    x = np.asfarray([])\n",
    "    for i in range(0, len(x_array)):\n",
    "        if x_array[i] > stimTime: \n",
    "            x = np.append(x, x_array[i]+offset)\n",
    "        else: \n",
    "            x = np.append(x, x_array[i])\n",
    "    return x"
   ]
  },
  {
   "cell_type": "code",
   "execution_count": 14,
   "metadata": {},
   "outputs": [
    {
     "name": "stdout",
     "output_type": "stream",
     "text": [
      "['./CMs_mm1_normalCond27.csv' './CMs_mm1_normalCond33.csv'\n",
      " './CMs_mm1_normalCond32.csv' './CMs_mm1_normalCond26.csv'\n",
      " './CMs_mm1_normalCond18.csv' './CMs_mm1_normalCond30.csv'\n",
      " './CMs_mm1_normalCond24.csv' './CMs_mm1_normalCond25.csv'\n",
      " './CMs_mm1_normalCond31.csv' './CMs_mm1_normalCond19.csv'\n",
      " './CMs_mm1_normalCond35.csv' './CMs_mm1_normalCond21.csv'\n",
      " './CMs_mm1_normalCond20.csv' './CMs_mm1_normalCond34.csv'\n",
      " './CMs_mm1_normalCond22.csv' './CMs_mm1_normalCond36.csv'\n",
      " './CMs_mm1_normalCond37.csv' './CMs_mm1_normalCond23.csv'\n",
      " './CMs_mm1_normalCond44.csv' './CMs_mm1_normalCond45.csv'\n",
      " './CMs_mm1_normalCond47.csv' './CMs_mm1_normalCond46.csv'\n",
      " './CMs_mm1_normalCond42.csv' './CMs_mm1_normalCond43.csv'\n",
      " './CMs_mm1_normalCond41.csv' './CMs_mm1_normalCond8.csv'\n",
      " './CMs_mm1_normalCond9.csv' './CMs_mm1_normalCond40.csv'\n",
      " './CMs_mm1_normalCond4.csv' './CMs_mm1_normalCond5.csv'\n",
      " './CMs_mm1_normalCond7.csv' './CMs_mm1_normalCond6.csv'\n",
      " './CMs_mm1_normalCond2.csv' './CMs_mm1_normalCond3.csv'\n",
      " './CMs_mm1_normalCond1.csv' './CMs_mm1_normalCond48.csv'\n",
      " './CMs_mm1_normalCond49.csv' './CMs_mm1_normalCond0.csv'\n",
      " './CMs_mm1_normalCond12.csv' './CMs_mm1_normalCond13.csv'\n",
      " './CMs_mm1_normalCond39.csv' './CMs_mm1_normalCond11.csv'\n",
      " './CMs_mm1_normalCond10.csv' './CMs_mm1_normalCond38.csv'\n",
      " './CMs_mm1_normalCond14.csv' './CMs_mm1_normalCond28.csv'\n",
      " './CMs_mm1_normalCond29.csv' './CMs_mm1_normalCond15.csv'\n",
      " './CMs_mm1_normalCond17.csv' './CMs_mm1_normalCond16.csv']\n",
      "50\n"
     ]
    }
   ],
   "source": [
    "# Snatch all .csv files in current directory\n",
    "import os             \n",
    "all_files = os.listdir()   # imagine you're one directory above test dir\n",
    "# print(all_files)  # won't necessarily be sorted\n",
    "import glob\n",
    "filenames = glob.glob(\"./*.csv\")\n",
    "filenames = files\n",
    "print(filenames)\n",
    "print(len(filenames))"
   ]
  },
  {
   "cell_type": "code",
   "execution_count": 21,
   "metadata": {},
   "outputs": [
    {
     "name": "stdout",
     "output_type": "stream",
     "text": [
      "50\n",
      "50\n"
     ]
    },
    {
     "data": {
      "text/plain": [
       "<matplotlib.collections.PathCollection at 0x7fde7fe58880>"
      ]
     },
     "execution_count": 21,
     "metadata": {},
     "output_type": "execute_result"
    },
    {
     "data": {
      "image/png": "[encoded data removed]",
      "text/plain": [
       "<Figure size 432x288 with 1 Axes>"
      ]
     },
     "metadata": {
      "needs_background": "light"
     },
     "output_type": "display_data"
    }
   ],
   "source": [
    "x_array = []\n",
    "y_array = []\n",
    "y2_array = []\n",
    "for i in range(0, len(filenames)): \n",
    "    # print(filenames[i])\n",
    "    df = processTrace(filenames[i])\n",
    "    y = (max(df['F0']))\n",
    "    y2 = (max(df['F0'][28:58]))\n",
    "    x = np.where(df['F0']==y)\n",
    "    x = x[0]\n",
    "    x = x[0]\n",
    "    # print(x)\n",
    "    x = df['Time'][x]\n",
    "    x_array = np.append(x_array, x)\n",
    "    y_array = np.append(y_array, y)\n",
    "    y2_array = np.append(y2_array, y2)\n",
    "\n",
    "# plt.hist(y_array)\n",
    "print(len(y_array))\n",
    "print(len(x_array))\n",
    "plt.scatter(x_array, y_array)"
   ]
  },
  {
   "cell_type": "code",
   "execution_count": 22,
   "metadata": {},
   "outputs": [
    {
     "name": "stdout",
     "output_type": "stream",
     "text": [
      "[12  7 36 11 40 27 20  8  6 26 22 19 25 46 44  0 28 35 18 23 21 13 30 38\n",
      " 31 24 16 42  5  1 33 39 29 49 34  3 41  9 17  4  2 48 37 15 43 14 45 47\n",
      " 10 32]\n"
     ]
    }
   ],
   "source": [
    "# Sort by max peak\n",
    "ind = np.argsort(y_array)\n",
    "print(ind)"
   ]
  },
  {
   "cell_type": "code",
   "execution_count": 23,
   "metadata": {},
   "outputs": [],
   "source": [
    "array_f0 = f0array(filenames)\n",
    "\n",
    "# Rearrange by max f0\n",
    "array_f0 = array_f0[ind,:]\n",
    "\n",
    "# Increase all values to be on the scale\n",
    "for i in range(0, len(array_f0)):\n",
    "    for j in range(0, len(array_f0[i])):\n",
    "        if array_f0[i][j] < 0.01: \n",
    "            array_f0[i][j] = 0.01"
   ]
  },
  {
   "cell_type": "code",
   "execution_count": 24,
   "metadata": {},
   "outputs": [
    {
     "data": {
      "image/png": "[encoded data removed]",
      "text/plain": [
       "<Figure size 432x288 with 2 Axes>"
      ]
     },
     "metadata": {
      "needs_background": "light"
     },
     "output_type": "display_data"
    }
   ],
   "source": [
    "fig, ax1 = plt.subplots(figsize=(6,4))\n",
    "ax1.tick_params(direction='in', length=4, width=1.5, colors='black', grid_alpha=0, labelsize='16')\n",
    "ax1.set_yticklabels([])\n",
    "\n",
    "# Plot\n",
    "p = plt.pcolormesh(array_f0 , norm=colors.LogNorm(vmin=0.01, vmax=10),\n",
    "                   cmap='viridis', shading='auto')\n",
    "# ax1.set_xlabel('Time (s)', fontname=\"Arial\", fontsize=\"24\")\n",
    "ax1.set_ylabel('Cell #', fontname=\"Arial\", fontsize=\"24\")\n",
    "ax1.set_xticks([])\n",
    "ax1.set_xlim(0,148)\n",
    "\n",
    "# Colorbar\n",
    "cb = fig.colorbar(p, ax=ax1)\n",
    "cb.set_label('$\\mathregular{\\Delta}$F/F$\\mathregular{_{0}}$', fontname=\"Arial\", fontsize=\"24\")\n",
    "cb.ax.tick_params(labelsize=16)\n",
    "\n",
    "\n",
    "# Save\n",
    "plt.tight_layout()\n",
    "plt.savefig('CMspikingwithMM1andRy.pdf', format = 'pdf')\n",
    "plt.show()"
   ]
  },
  {
   "cell_type": "code",
   "execution_count": 25,
   "metadata": {},
   "outputs": [
    {
     "name": "stdout",
     "output_type": "stream",
     "text": [
      "[]\n",
      "[ 29.  33.  74.  94. 115.]\n",
      "[ 29.  76. 100.]\n",
      "[ 29.  34.  38.  42.  49.  53.  57.  59.  65.  68.  78.  91.  96. 123.\n",
      " 137. 140.]\n",
      "[ 29.  47.  56.  65.  69.  88.  96.  99. 107. 124. 134.]\n",
      "[  5.  45.  48.  54.  65.  68.  72.  78.  85. 118. 120.]\n",
      "[30.]\n",
      "[]\n",
      "[]\n",
      "[ 47.  88. 134.]\n",
      "[ 29.  32.  42.  43.  45.  49.  53.  59.  65.  68.  78. 116. 123. 130.\n",
      " 137.]\n",
      "[]\n",
      "[]\n",
      "[142.]\n",
      "[ 48.  88. 112. 117. 134. 147.]\n",
      "[29. 76. 99.]\n",
      "[ 29.  41.  58.  74.  77.  90.  94. 100. 115. 120. 126.]\n",
      "[ 48.  62.  88. 134.]\n",
      "[30.]\n",
      "[ 72. 102.]\n",
      "[]\n",
      "[9.]\n",
      "[39. 80.]\n",
      "[29.]\n",
      "[ 29.  41.  58.  74.  77.  90.  94. 100. 115. 120. 126.]\n",
      "[]\n",
      "[]\n",
      "[]\n",
      "[33. 72. 88. 91.]\n",
      "[ 34.  39.  42.  50.  56.  73.  89.  92.  98. 102. 119. 125.]\n",
      "[29. 33. 37. 46. 49.]\n",
      "[30. 65.]\n",
      "[29. 33. 35. 37. 41. 46. 51. 55. 58. 73. 80. 83. 95.]\n",
      "[30.]\n",
      "[30. 64. 65.]\n",
      "[ 27.  42.  96. 110. 117.]\n",
      "[]\n",
      "[29. 33. 46. 49. 80.]\n",
      "[65.]\n",
      "[ 39.  41.  50.  56.  78.  82.  89.  92.  98. 102. 110. 125. 145.]\n",
      "[]\n",
      "[ 29.  33.  35.  42.  48.  52.  56.  68.  82.  89. 105. 117.]\n",
      "[ 41.  50.  56.  78.  82.  86.  89.  92.  98. 110. 145.]\n",
      "[ 30.  76. 100.]\n",
      "[]\n",
      "[ 30.  76. 100.]\n",
      "[]\n",
      "[ 41.  50.  56.  58.  78.  82.  86.  89.  92.  98. 102. 110. 118. 133.\n",
      " 139. 145.]\n",
      "[ 27.  47.  57.  67.  86.  88.  94. 105. 134.]\n",
      "[30.]\n",
      "Traces:  50\n",
      "Peaks identified:  256\n"
     ]
    }
   ],
   "source": [
    "x = []\n",
    "all_responses_LOD = []\n",
    "all_responses_scipy = []\n",
    "for i in range(0, len(filenames)):\n",
    "    x2 = totalProcess(filenames[i])\n",
    "    all_responses_scipy = np.append(all_responses_scipy, x2)\n",
    "\n",
    "all_responses_scipy = np.divide(all_responses_scipy, .99)\n",
    "all_responses_scipy = np.add(all_responses_scipy, 1)\n",
    "\n",
    "print('Traces: ', len(filenames))    \n",
    "print('Peaks identified: ', len(all_responses_scipy))"
   ]
  },
  {
   "cell_type": "code",
   "execution_count": 26,
   "metadata": {},
   "outputs": [
    {
     "name": "stderr",
     "output_type": "stream",
     "text": [
      "/Users/jacobbeckham/opt/anaconda3/lib/python3.8/site-packages/seaborn/distributions.py:2551: FutureWarning: `distplot` is a deprecated function and will be removed in a future version. Please adapt your code to use either `displot` (a figure-level function with similar flexibility) or `histplot` (an axes-level function for histograms).\n",
      "  warnings.warn(msg, FutureWarning)\n"
     ]
    },
    {
     "data": {
      "image/png": "[encoded data removed]",
      "text/plain": [
       "<Figure size 432x360 with 1 Axes>"
      ]
     },
     "metadata": {
      "needs_background": "light"
     },
     "output_type": "display_data"
    }
   ],
   "source": [
    "# Density Plot and Histogram of all arrival delays\n",
    "fig, ax1 = plt.subplots(figsize=(6,5))\n",
    "ax1.tick_params(direction='in', length=4, width=1.5, colors='black', grid_alpha=0, labelsize='18')\n",
    "ax1.spines['right'].set_visible(False)\n",
    "ax1.spines['top'].set_visible(False)\n",
    "\n",
    "sns.distplot(all_responses_scipy, hist=True, kde=False, \n",
    "             bins=int(50), color = 'black', \n",
    "             hist_kws={'edgecolor':'None'},\n",
    "             kde_kws={'linewidth': 2})\n",
    "\n",
    "# Highlight Stim\n",
    "ax1.axvspan(28, 29, alpha=0.5, color='cyan')\n",
    "ax1.set_xticks([0, 30, 60, 90, 120])\n",
    "ax1.set_ylim(0,10)\n",
    "\n",
    "\n",
    "ax1.set_xlabel('Time (s)', fontname=\"Arial\", fontsize=\"24\")\n",
    "ax1.set_ylabel('Frequency', fontname=\"Arial\", fontsize=\"24\")\n",
    "\n",
    "# Save\n",
    "plt.tight_layout()\n",
    "plt.savefig('HistogramMM1SciPy.png', dpi=300)\n",
    "plt.show()"
   ]
  },
  {
   "cell_type": "code",
   "execution_count": 27,
   "metadata": {},
   "outputs": [
    {
     "name": "stdout",
     "output_type": "stream",
     "text": [
      "[]\n",
      "[ 29.  33.  74.  94. 115.]\n",
      "[ 29.  76. 100.]\n",
      "[ 29.  34.  38.  42.  49.  53.  57.  59.  65.  68.  78.  91.  96. 123.\n",
      " 137. 140.]\n",
      "[ 29.  47.  56.  65.  69.  88.  96.  99. 107. 124. 134.]\n",
      "[  5.  45.  48.  54.  65.  68.  72.  78.  85. 118. 120.]\n",
      "[30.]\n",
      "[]\n",
      "[]\n",
      "[ 47.  88. 134.]\n",
      "[ 29.  32.  42.  43.  45.  49.  53.  59.  65.  68.  78. 116. 123. 130.\n",
      " 137.]\n",
      "[]\n",
      "[]\n",
      "[142.]\n",
      "[ 48.  88. 112. 117. 134. 147.]\n",
      "[29. 76. 99.]\n",
      "[ 29.  41.  58.  74.  77.  90.  94. 100. 115. 120. 126.]\n",
      "[ 48.  62.  88. 134.]\n",
      "[30.]\n",
      "[ 72. 102.]\n",
      "[]\n",
      "[9.]\n",
      "[39. 80.]\n",
      "[29.]\n",
      "[ 29.  41.  58.  74.  77.  90.  94. 100. 115. 120. 126.]\n",
      "[]\n",
      "[]\n",
      "[]\n",
      "[33. 72. 88. 91.]\n",
      "[ 34.  39.  42.  50.  56.  73.  89.  92.  98. 102. 119. 125.]\n",
      "[29. 33. 37. 46. 49.]\n",
      "[30. 65.]\n",
      "[29. 33. 35. 37. 41. 46. 51. 55. 58. 73. 80. 83. 95.]\n",
      "[30.]\n",
      "[30. 64. 65.]\n",
      "[ 27.  42.  96. 110. 117.]\n",
      "[]\n",
      "[29. 33. 46. 49. 80.]\n",
      "[65.]\n",
      "[ 39.  41.  50.  56.  78.  82.  89.  92.  98. 102. 110. 125. 145.]\n",
      "[]\n",
      "[ 29.  33.  35.  42.  48.  52.  56.  68.  82.  89. 105. 117.]\n",
      "[ 41.  50.  56.  78.  82.  86.  89.  92.  98. 110. 145.]\n",
      "[ 30.  76. 100.]\n",
      "[]\n",
      "[ 30.  76. 100.]\n",
      "[]\n",
      "[ 41.  50.  56.  58.  78.  82.  86.  89.  92.  98. 102. 110. 118. 133.\n",
      " 139. 145.]\n",
      "[ 27.  47.  57.  67.  86.  88.  94. 105. 134.]\n",
      "[30.]\n",
      "[ 0.  5.  8. 16. 18. 11.  1.  0.  0.  3. 15.  0.  0.  1.  8.  5. 11.  7.\n",
      "  1.  2.  0.  1.  2.  1. 11.  0.  0.  0.  4. 12.  5.  2. 13.  1.  3.  5.\n",
      "  6.  5.  1. 13.  0. 12. 11.  3.  0.  3.  0. 16. 13.  1.]\n",
      "50\n",
      "Mean spikes per cell:  5.12\n",
      "Standard dev:  5.365221337465957\n",
      "Standard error:  0.7587568780577872\n",
      "Percent of spikes after 30 s:  92.1875 %\n"
     ]
    }
   ],
   "source": [
    "array = []\n",
    "x2 = []\n",
    "\n",
    "for i in range(0, len(filenames)): \n",
    "    filename = filenames[i]\n",
    "    x1 = totalProcess(filename)\n",
    "    for i in range(0, len(x1)): \n",
    "        if x1[i] > 29: \n",
    "            x2 = np.append(x2, x1[i])\n",
    "    array = np.append(array, len(x1))\n",
    "  \n",
    "print(array)\n",
    "print(len(array))\n",
    "mean = np.mean(array)\n",
    "print('Mean spikes per cell: ', mean)\n",
    "stdev = np.std(array)\n",
    "print('Standard dev: ', stdev)\n",
    "se = stdev/math.sqrt(len(filenames))\n",
    "print('Standard error: ', se)\n",
    "perc = len(x2)/sum(array)*100\n",
    "print('Percent of spikes after 30 s: ', perc, '%')"
   ]
  },
  {
   "cell_type": "code",
   "execution_count": null,
   "metadata": {},
   "outputs": [],
   "source": []
  }
 ],
 "metadata": {
  "kernelspec": {
   "display_name": "Python 3",
   "language": "python",
   "name": "python3"
  },
  "language_info": {
   "codemirror_mode": {
    "name": "ipython",
    "version": 3
   },
   "file_extension": ".py",
   "mimetype": "text/x-python",
   "name": "python",
   "nbconvert_exporter": "python",
   "pygments_lexer": "ipython3",
   "version": "3.8.3"
  }
 },
 "nbformat": 4,
 "nbformat_minor": 4
}
